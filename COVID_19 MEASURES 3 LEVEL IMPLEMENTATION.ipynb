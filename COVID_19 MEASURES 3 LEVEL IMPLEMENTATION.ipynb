{
 "cells": [
  {
   "cell_type": "markdown",
   "metadata": {},
   "source": [
    "# COVID_19 3 Level Measure Comparision done for The most affected and least affected countries.\n",
    "How is the implementation of existing strategies affecting the rates of COVID-19 infection?\n",
    "Task Details\n",
    "The Roche Data Science Coalition is a group of like-minded public and private organizations with a common mission and vision to bring actionable intelligence to patients, frontline healthcare providers, institutions, supply chains, and government. The tasks associated with this dataset were developed and evaluated by global frontline healthcare providers, hospitals, suppliers, and policy makers. They represent key research questions where insights developed by the Kaggle community can be most impactful in the areas of at-risk population evaluation and capacity management. - COVID19 Uncover Challenge\n",
    "\n",
    "Implementation of the Problem\n",
    "The General Question which we require to study in this notebook is how the implementation of existing strategies affecting the rate of COVID-19 Infection. For the sake of this notebook we proceed with the following analogies ans steps.\n",
    "\n",
    "Checking which countries are somewhat successful in controlling the rate of COVID-19 Spreads.\n",
    "Figuring out the various measures adopted by that very countries to understand how did it affected spreads.\n",
    "Checking the countries that displayed a much higher COVID-19 Infections and the growth is exponential as of now.\n",
    "Figuring out where the country lacked in implementation tools.\n",
    "Finally we can compare how the country that controlled the COVID-19 Proceeded with the community measures than that to the countries that currently exhibit a near to exponential growth of the COVID-19 Infections."
   ]
  },
  {
   "cell_type": "code",
   "execution_count": null,
   "metadata": {
    "id": "PblY3ZNYS8Sf"
   },
   "outputs": [],
   "source": [
    "import pandas as pd\n",
    "from pandas import DataFrame\n",
    "import numpy as np"
   ]
  },
  {
   "cell_type": "markdown",
   "metadata": {},
   "source": [
    "**This data set contains data that have been collected from public sources. The column \"Date\" corresponds to the date of application (if not found, date of announcement is provided). The column \"Region\" specifies if measures were implemented at sub-national level and precise the region. Intervention measures are classified following a four-level coding strategy. Level 1 (L1) shows the top-level categories of intervention measures in our classification scheme, including (1) Case identification, contact tracing and related measures, (2) Environmental measures, (3) Healthcare and public health capacity, (4) Resource allocation, (5) Risk communication, (6) Social distancing, (7) Travel restriction, (8) Returning to normal life. Level 2 (L2) presents subcategories of measures for each L1 category. Level 3 (L3) presents subcategories of measures for each L2-category measure or specific detail about the corresponding L2-category measure.**"
   ]
  },
  {
   "cell_type": "code",
   "execution_count": null,
   "metadata": {},
   "outputs": [],
   "source": [
    "mobility=DataFrame(pd.read_csv(r'../input/tagged-covid19-measures/covid_measures.csv',encoding='latin-1'))\n",
    "mobility.head()"
   ]
  },
  {
   "cell_type": "markdown",
   "metadata": {},
   "source": [
    "# Extraction of data from least affected countries like New Zealand, Austria, Finland etc. and least affected countris like UK, Japan, Canada etc."
   ]
  },
  {
   "cell_type": "code",
   "execution_count": null,
   "metadata": {},
   "outputs": [],
   "source": [
    "finland=mobility[mobility['iso3c']=='FIN']\n",
    "finland=finland.reset_index().drop('index',axis=1)\n",
    "#print(finland)"
   ]
  },
  {
   "cell_type": "code",
   "execution_count": null,
   "metadata": {
    "id": "FAa92iJCTR7F",
    "outputId": "7a25ca42-6568-4fa3-944f-7c90976b57c5"
   },
   "outputs": [],
   "source": [
    "NewZ=mobility[mobility['Country']=='New Zealand']\n",
    "NewZ=NewZ.reset_index().drop('index',axis=1)\n",
    "# print(NewZ)\n",
    "Aus=mobility[mobility['Country']=='Austria']\n",
    "Aus=Aus.reset_index().drop('index',axis=1)\n",
    "# print(Aus)\n",
    "Tai=mobility[mobility['Country']=='Taiwan']\n",
    "Tai=Tai.reset_index().drop('index',axis=1)\n",
    "# print(Tai)\n",
    "Sw=mobility[mobility['Country']=='Sweden']\n",
    "Sw=Sw.reset_index().drop('index',axis=1)\n",
    "\n",
    "Sk=mobility[mobility['Country']=='South Korea']\n",
    "Sk=Sk.reset_index().drop('index',axis=1)\n",
    "\n",
    "Mx=mobility[mobility['Country']=='Mexico']\n",
    "Mx=Mx.reset_index().drop('index',axis=1)\n",
    "\n",
    "Sg=mobility[mobility['Country']=='Singapore']\n",
    "Sg=Sg.reset_index().drop('index',axis=1)\n",
    "\n",
    "Nw=mobility[mobility['Country']=='Norway']\n",
    "Nw=Nw.reset_index().drop('index',axis=1)\n",
    "\n",
    "Cz=mobility[mobility['Country']=='Czech Republic']\n",
    "Cz=Cz.reset_index().drop('index',axis=1)\n",
    "\n",
    "lowest=['Finland','New Zealand','Austria','Taiwan','Sweden','South Korea','Mexico','Singapore','Norway','Czech Republic']\n",
    "highest=['Uk','France','Canada','Japan','Germany','Switzerland','Belgium','Netherlands','Portugal','India']\n",
    "\n",
    "uk=mobility[mobility['Country']=='United Kingdom']\n",
    "uk=uk.reset_index().drop('index',axis=1)\n",
    "# print(uk)\n",
    "\n",
    "France=mobility[mobility['Country']=='France (metropole)']\n",
    "France=France.reset_index().drop('index',axis=1)\n",
    "# print(France)\n",
    "\n",
    "Canada=mobility[mobility['Country']=='Canada']\n",
    "Canada=Canada.reset_index().drop('index',axis=1)\n",
    "# print(Canada)\n",
    "\n",
    "Japan=mobility[mobility['Country']=='Japan']\n",
    "Japan=Japan.reset_index().drop('index',axis=1)\n",
    "#print(Japan)\n",
    "Ge=mobility[mobility['Country']=='Germany']\n",
    "Ge=Ge.reset_index().drop('index',axis=1)\n",
    "\n",
    "St=mobility[mobility['Country']=='Switzerland']\n",
    "St=St.reset_index().drop('index',axis=1)\n",
    "\n",
    "Be=mobility[mobility['Country']=='Belgium']\n",
    "Be=Be.reset_index().drop('index',axis=1)\n",
    "\n",
    "Nt=mobility[mobility['Country']=='Netherlands']\n",
    "Nt=Nt.reset_index().drop('index',axis=1)\n",
    "\n",
    "Pt=mobility[mobility['Country']=='Portugal']\n",
    "Pt=Pt.reset_index().drop('index',axis=1)\n",
    "\n",
    "Id=mobility[mobility['Country']=='India']\n",
    "Id=Id.reset_index().drop('index',axis=1)\n"
   ]
  },
  {
   "cell_type": "markdown",
   "metadata": {},
   "source": [
    "# Extraction of Dates from the countries for performing Time-Series Forcasting"
   ]
  },
  {
   "cell_type": "code",
   "execution_count": null,
   "metadata": {
    "id": "l6qjNt8JcrEN"
   },
   "outputs": [],
   "source": [
    "# print(mobility['date'])\n",
    "\n",
    "\n",
    "findates=list(finland['Date'])\n",
    "\n",
    "newzdates=list(NewZ['Date'])\n",
    "\n",
    "ausdates=list(Aus['Date'])\n",
    "\n",
    "taidates=list(Tai['Date'])\n",
    "\n",
    "swdates=list(Sw['Date'])\n",
    "\n",
    "skdates=list(Sk['Date'])\n",
    "\n",
    "mxdates=list(Mx['Date'])\n",
    "\n",
    "sgdates=list(Sg['Date'])\n",
    "\n",
    "nwdates=list(Nw['Date'])\n",
    "\n",
    "czdates=list(Cz['Date'])\n",
    "\n",
    "ukdates=list(uk['Date'])\n",
    "\n",
    "frdates=list(France['Date'])\n",
    "\n",
    "cndates=list(Canada['Date'])\n",
    "\n",
    "jpdates=list(Japan['Date'])\n",
    "\n",
    "gedates=list(Ge['Date'])\n",
    "\n",
    "stdates=list(St['Date'])\n",
    "\n",
    "bedates=list(Be['Date'])\n",
    "\n",
    "ntdates=list(Nt['Date'])\n",
    "\n",
    "ptdates=list(Pt['Date'])\n",
    "\n",
    "iddates=list(Id['Date'])"
   ]
  },
  {
   "cell_type": "markdown",
   "metadata": {},
   "source": [
    "# Tags Used for annotation"
   ]
  },
  {
   "cell_type": "code",
   "execution_count": null,
   "metadata": {},
   "outputs": [],
   "source": [
    "tags=DataFrame(pd.read_csv(r'../input/tagged-covid19-measures/tags.csv',encoding='latin-1'))\n",
    "tags\n"
   ]
  },
  {
   "cell_type": "markdown",
   "metadata": {},
   "source": [
    "# Plotting of Graphs: Tagged Measures Vs Dates for most affected and least countries for Level 1 measure"
   ]
  },
  {
   "cell_type": "code",
   "execution_count": null,
   "metadata": {
    "id": "dx2pK186dq-f",
    "outputId": "22f875f1-daf8-43a9-a6d5-26984d04351a"
   },
   "outputs": [],
   "source": [
    "#Retail and Recreation\n",
    "from matplotlib import pyplot as plt\n",
    "plt.style.use('seaborn')\n",
    "plt.plot_date(findates,list(map(int,  list(finland['Measure_L1']))),label='Finland')\n",
    "plt.plot_date(newzdates,list(map(int,  list(NewZ['Measure_L1']))),label='NewZealand')\n",
    "plt.plot_date(ausdates,list(map(int,  list(Aus['Measure_L1']))),label='Austria')\n",
    "plt.plot_date(taidates,list(map(int,  list(Tai['Measure_L1']))),label='Taiwan')\n",
    "plt.plot_date(swdates,list(map(int,  list(Sw['Measure_L1']))),label='Sweden')\n",
    "plt.plot_date(skdates,list(map(int,  list(Sk['Measure_L1']))),label='South Korea')\n",
    "plt.plot_date(mxdates,list(map(int,  list(Mx['Measure_L1']))),label='Mexico')\n",
    "plt.plot_date(sgdates,list(map(int,  list(Sg['Measure_L1']))),label='Singapore')\n",
    "plt.plot_date(nwdates,list(map(int,  list(Nw['Measure_L1']))),label='Norway')\n",
    "plt.plot_date(czdates,list(map(int,  list(Cz['Measure_L1']))),label='Czech Republic')\n",
    "plt.xlabel('Date')\n",
    "plt.ylabel('Measure_L1')\n",
    "plt.title('COVID19 Least Affected Countries')\n",
    "plt.tight_layout()\n",
    "plt.legend()\n",
    "plt.show()\n",
    "\n",
    "plt.plot_date(ukdates,list(map(int,  list(uk['Measure_L1']))),label='UK')\n",
    "plt.plot_date(frdates,list(map(int,  list(France['Measure_L1']))),label='France')\n",
    "plt.plot_date(cndates,list(map(int,  list(Canada['Measure_L1']))),label='Canada')\n",
    "plt.plot_date(jpdates,list(map(int,  list(Japan['Measure_L1']))),label='Japan')\n",
    "plt.plot_date(gedates,list(map(int,  list(Ge['Measure_L1']))),label='Germany')\n",
    "plt.plot_date(stdates,list(map(int,  list(St['Measure_L1']))),label='Switzerland')\n",
    "plt.plot_date(bedates,list(map(int,  list(Be['Measure_L1']))),label='Belgium')\n",
    "plt.plot_date(ntdates,list(map(int,  list(Nt['Measure_L1']))),label='Netherlands')\n",
    "plt.plot_date(ptdates,list(map(int,  list(Pt['Measure_L1']))),label='Portugal')\n",
    "plt.plot_date(iddates,list(map(int,  list(Id['Measure_L1']))),label='India')\n",
    "plt.xlabel('Date')\n",
    "plt.ylabel('Measure_L1')\n",
    "plt.title('COVID19 Most Affected Countries')\n",
    "plt.tight_layout()\n",
    "plt.legend()\n",
    "plt.show()\n",
    "\n",
    "# plt.plot_date((mobility['Date']),list(map(int,  list(mobility['Measure_L3']))))\n",
    "# plt.show()"
   ]
  },
  {
   "cell_type": "markdown",
   "metadata": {},
   "source": [
    "**In the above graph, many observations about the L1 measures taken is seen.The least affected countries are seen to implement measures like Social Distancing(1), Travel Restricition(2), Case Identification(3) etc..during earlier periods of infection(i.e where a dense plot is seen), whereas when we see the plot of Most affected countries, the measures taken initially is sparse comparitively and later becomes dense as the date progresses. **"
   ]
  },
  {
   "cell_type": "markdown",
   "metadata": {},
   "source": [
    "----------------------------------------------------------------------------------------------------------------------------------------------"
   ]
  },
  {
   "cell_type": "markdown",
   "metadata": {},
   "source": [
    "# Plotting of Graphs: Tagged Measures Vs Dates for most affected and least countries for Level 2 measures"
   ]
  },
  {
   "cell_type": "code",
   "execution_count": null,
   "metadata": {
    "id": "h84xGdh5mCNc",
    "outputId": "b186a4c1-a340-4f5f-fc02-9f8c4b2a1846"
   },
   "outputs": [],
   "source": [
    "#Retail and Recreation\n",
    "from matplotlib import pyplot as plt\n",
    "plt.style.use('seaborn')\n",
    "plt.plot_date(findates,list(map(int,  list(finland['Measure_L2']))),label='Finland')\n",
    "plt.plot_date(newzdates,list(map(int,  list(NewZ['Measure_L2']))),label='NewZealand')\n",
    "plt.plot_date(ausdates,list(map(int,  list(Aus['Measure_L2']))),label='Austria')\n",
    "plt.plot_date(taidates,list(map(int,  list(Tai['Measure_L2']))),label='Taiwan')\n",
    "plt.plot_date(swdates,list(map(int,  list(Sw['Measure_L2']))),label='Sweden')\n",
    "plt.plot_date(skdates,list(map(int,  list(Sk['Measure_L2']))),label='South Korea')\n",
    "plt.plot_date(mxdates,list(map(int,  list(Mx['Measure_L2']))),label='Mexico')\n",
    "plt.plot_date(sgdates,list(map(int,  list(Sg['Measure_L2']))),label='Singapore')\n",
    "plt.plot_date(nwdates,list(map(int,  list(Nw['Measure_L2']))),label='Norway')\n",
    "plt.plot_date(czdates,list(map(int,  list(Cz['Measure_L2']))),label='Czech Republic')\n",
    "plt.xlabel('Date')\n",
    "plt.ylabel('Measure_L2')\n",
    "plt.title('COVID19 Least Affected Countries')\n",
    "plt.tight_layout()\n",
    "plt.legend()\n",
    "plt.show()\n",
    "\n",
    "plt.plot_date(ukdates,list(map(int,  list(uk['Measure_L2']))),label='UK')\n",
    "plt.plot_date(frdates,list(map(int,  list(France['Measure_L2']))),label='France')\n",
    "plt.plot_date(cndates,list(map(int,  list(Canada['Measure_L2']))),label='Canada')\n",
    "plt.plot_date(jpdates,list(map(int,  list(Japan['Measure_L2']))),label='Japan')\n",
    "plt.plot_date(gedates,list(map(int,  list(Ge['Measure_L2']))),label='Germany')\n",
    "plt.plot_date(stdates,list(map(int,  list(St['Measure_L2']))),label='Switzerland')\n",
    "plt.plot_date(bedates,list(map(int,  list(Be['Measure_L2']))),label='Belgium')\n",
    "plt.plot_date(ntdates,list(map(int,  list(Nt['Measure_L2']))),label='Netherlands')\n",
    "plt.plot_date(ptdates,list(map(int,  list(Pt['Measure_L2']))),label='Portugal')\n",
    "plt.plot_date(iddates,list(map(int,  list(Id['Measure_L2']))),label='India')\n",
    "plt.xlabel('Date')\n",
    "plt.ylabel('Measure_L2')\n",
    "plt.title('COVID19 Most Affected Countries')\n",
    "plt.tight_layout()\n",
    "plt.legend()\n",
    "plt.show()\n"
   ]
  },
  {
   "cell_type": "markdown",
   "metadata": {},
   "source": [
    "**In the above graph, many observations about the L2 measures taken is seen.The least affected countries are seen to implement measures like Risk Communication(4), Travel Restricition(2), Healthcare(5) etc..in earlier dates itself(a dense plot is seen). Where as when we see the plot of Most affected countries, the measures like Travel Restriction has been taken in earlier dates whereas other measures are neglected, however later becomes dense as the date progresses. **"
   ]
  },
  {
   "cell_type": "markdown",
   "metadata": {},
   "source": [
    "----------------------------------------------------------------------------------------------------------------------------------------------"
   ]
  },
  {
   "cell_type": "markdown",
   "metadata": {},
   "source": [
    "# Plotting of Graphs: Tagged Measures Vs Dates for most affected and least countries for Level 3 measures"
   ]
  },
  {
   "cell_type": "code",
   "execution_count": null,
   "metadata": {
    "id": "CUxqw1Dn3f-2",
    "outputId": "173876bc-c9af-4a19-9eca-141bed240720"
   },
   "outputs": [],
   "source": [
    "# parks_percent_change_from_baseline\n",
    "plt.style.use('seaborn')\n",
    "#Retail and Recreation\n",
    "from matplotlib import pyplot as plt\n",
    "plt.style.use('seaborn')\n",
    "plt.plot_date(findates,list(map(int,  list(finland['Measure_L3']))),label='Finland')\n",
    "plt.plot_date(newzdates,list(map(int,  list(NewZ['Measure_L3']))),label='NewZealand')\n",
    "plt.plot_date(ausdates,list(map(int,  list(Aus['Measure_L3']))),label='Austria')\n",
    "plt.plot_date(taidates,list(map(int,  list(Tai['Measure_L3']))),label='Taiwan')\n",
    "plt.plot_date(swdates,list(map(int,  list(Sw['Measure_L3']))),label='Sweden')\n",
    "plt.plot_date(skdates,list(map(int,  list(Sk['Measure_L3']))),label='South Korea')\n",
    "plt.plot_date(mxdates,list(map(int,  list(Mx['Measure_L3']))),label='Mexico')\n",
    "plt.plot_date(sgdates,list(map(int,  list(Sg['Measure_L3']))),label='Singapore')\n",
    "plt.plot_date(nwdates,list(map(int,  list(Nw['Measure_L3']))),label='Norway')\n",
    "plt.plot_date(czdates,list(map(int,  list(Cz['Measure_L3']))),label='Czech Republic')\n",
    "plt.xlabel('Date')\n",
    "plt.ylabel('Measure_L3')\n",
    "plt.title('COVID19 Least Affected Countries')\n",
    "plt.tight_layout()\n",
    "plt.legend()\n",
    "plt.show()\n",
    "\n",
    "plt.plot_date(ukdates,list(map(int,  list(uk['Measure_L3']))),label='UK')\n",
    "plt.plot_date(frdates,list(map(int,  list(France['Measure_L3']))),label='France')\n",
    "plt.plot_date(cndates,list(map(int,  list(Canada['Measure_L3']))),label='Canada')\n",
    "plt.plot_date(jpdates,list(map(int,  list(Japan['Measure_L3']))),label='Japan')\n",
    "plt.plot_date(gedates,list(map(int,  list(Ge['Measure_L3']))),label='Germany')\n",
    "plt.plot_date(stdates,list(map(int,  list(St['Measure_L3']))),label='Switzerland')\n",
    "plt.plot_date(bedates,list(map(int,  list(Be['Measure_L3']))),label='Belgium')\n",
    "plt.plot_date(ntdates,list(map(int,  list(Nt['Measure_L3']))),label='Netherlands')\n",
    "plt.plot_date(ptdates,list(map(int,  list(Pt['Measure_L3']))),label='Portugal')\n",
    "plt.plot_date(iddates,list(map(int,  list(Id['Measure_L3']))),label='India')\n",
    "plt.xlabel('Date')\n",
    "plt.ylabel('Measure_L3')\n",
    "plt.title('COVID19 most Affected Countries')\n",
    "plt.tight_layout()\n",
    "plt.legend()\n",
    "plt.show()\n"
   ]
  },
  {
   "cell_type": "markdown",
   "metadata": {},
   "source": [
    "**In the above graph, the same observations about the L3 measures is seen. The density of measures taken initially by least affected countries is more especially for Case Identification(3),Healthcare(5), closure of educational instituions(6) etc.. The same trend is observed in Most affected countires who fail to implement these measures in the initial dates.**"
   ]
  },
  {
   "cell_type": "markdown",
   "metadata": {},
   "source": [
    "**Thus from the above data analysis we can easily conclude that the least affected countries have taken up certain measures in the initial days itself which has reduced the risk of contracting COVID19:**\n",
    "* Social distancing\n",
    "* Travel restriction\n",
    "* Case identification\t\n",
    "* Healthcare and public health capacity\n",
    "* Closure of educational institutions\n",
    "* Environmental cleaning and disinfection\n",
    "\n",
    "**The most affected countires have however failed to implement the same in intital days paving way to a lot of COVID19 cases and deaths eventually.**\n"
   ]
  }
 ],
 "metadata": {
  "colab": {
   "collapsed_sections": [],
   "name": "Untitled7.ipynb",
   "provenance": []
  },
  "kernelspec": {
   "display_name": "Python 3",
   "language": "python",
   "name": "python3"
  },
  "language_info": {
   "codemirror_mode": {
    "name": "ipython",
    "version": 3
   },
   "file_extension": ".py",
   "mimetype": "text/x-python",
   "name": "python",
   "nbconvert_exporter": "python",
   "pygments_lexer": "ipython3",
   "version": "3.7.4"
  }
 },
 "nbformat": 4,
 "nbformat_minor": 4
}
